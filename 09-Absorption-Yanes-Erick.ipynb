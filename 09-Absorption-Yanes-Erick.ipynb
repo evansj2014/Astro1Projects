{
  "cells": [
    {
      "cell_type": "markdown",
      "metadata": {
        "id": "view-in-github",
        "colab_type": "text"
      },
      "source": [
        "<a href=\"https://colab.research.google.com/github/evansj2014/Astro1Projects/blob/main/09-Absorption-Yanes-Erick.ipynb\" target=\"_parent\"><img src=\"https://colab.research.google.com/assets/colab-badge.svg\" alt=\"Open In Colab\"/></a>"
      ]
    },
    {
      "cell_type": "markdown",
      "metadata": {
        "id": "Qd7zeI7DU82d"
      },
      "source": [
        "# <font color=\"purple\">09-Absorption</font> (template)"
      ]
    },
    {
      "cell_type": "markdown",
      "metadata": {
        "id": "ObtWi_SmU82h"
      },
      "source": [
        "We start by importing the modules\n",
        "* Numpy -- operations on arrays and matrixes (and pi)\n",
        "* Matplotlib pyplot -- plotting library\n",
        "* Matplotlin patches -- module that enables patches in plots\n",
        "* Astropy units -- defined quantities with units. We also import the CDS conversions"
      ]
    },
    {
      "cell_type": "code",
      "execution_count": 1,
      "metadata": {
        "colab": {
          "base_uri": "https://localhost:8080/"
        },
        "id": "I8oIs481U82i",
        "outputId": "027c50d6-ac5d-48a0-944e-eb84bef97a29"
      },
      "outputs": [
        {
          "output_type": "execute_result",
          "data": {
            "text/plain": [
              "<astropy.units.core._UnitContext at 0x7f0f380d5a10>"
            ]
          },
          "metadata": {},
          "execution_count": 1
        }
      ],
      "source": [
        "import numpy as np\n",
        "\n",
        "import matplotlib.pyplot as plt\n",
        "import matplotlib.patches as mpatches\n",
        "%matplotlib inline \n",
        "\n",
        "from astropy import constants as const\n",
        "import astropy.units as u\n",
        "from astropy.units import cds\n",
        "cds.enable()"
      ]
    },
    {
      "cell_type": "markdown",
      "metadata": {
        "id": "BVnVa94sU82k"
      },
      "source": [
        "## 0. To execute: Below is a little function that created a gradiant of color between two curves, according to a certain function."
      ]
    },
    {
      "cell_type": "code",
      "execution_count": 2,
      "metadata": {
        "id": "w7A_oMj4U82l"
      },
      "outputs": [],
      "source": [
        "def rect(ax,x,y,w,h,c):\n",
        "    #ax = plt.gca()\n",
        "    polygon = plt.Rectangle((x,y),w,h,color=c)\n",
        "    ax.add_patch(polygon)\n",
        "\n",
        "def rainbow_fill_between(ax, X, Y1, Y2, colors=None, \n",
        "                         cmap=plt.get_cmap(\"Reds\"),**kwargs):\n",
        "    plt.plot(X,Y1,lw=0)  # Plot so the axes scale correctly\n",
        "\n",
        "    dx = X[1]-X[0]\n",
        "    N  = X.size\n",
        "\n",
        "    #Pad a float or int to same size as x\n",
        "    if (type(Y2) is float or type(Y2) is int):\n",
        "        Y2 = np.array([Y2]*N)\n",
        "\n",
        "    #No colors -- specify linear\n",
        "    if colors is None:\n",
        "        colors = []\n",
        "        for n in range(N):\n",
        "            colors.append(cmap(n/float(N)))\n",
        "    #Varying only in x\n",
        "    elif len(colors.shape) == 1:\n",
        "        colors = cmap((colors-colors.min())\n",
        "                      /(colors.max()-colors.min()))\n",
        "    #Varying only in x and y\n",
        "    else:\n",
        "        cnp = np.array(colors)\n",
        "        colors = np.empty([colors.shape[0],colors.shape[1],4])\n",
        "        for i in range(colors.shape[0]):\n",
        "            for j in range(colors.shape[1]):\n",
        "                colors[i,j,:] = cmap((cnp[i,j]-cnp[:,:].min())\n",
        "                                    /(cnp[:,:].max()-cnp[:,:].min()))\n",
        "\n",
        "    colors = np.array(colors)\n",
        "\n",
        "    #Create the patch objects\n",
        "    for (color,x,y1,y2) in zip(colors,X,Y1,Y2):\n",
        "        rect(ax,x,y2,dx,y1-y2,color,**kwargs)"
      ]
    },
    {
      "cell_type": "markdown",
      "metadata": {
        "id": "ohiirBL_U82m"
      },
      "source": [
        "## 1. In class: Imagine an ray of light entering a slab of constant density and opacity. \n",
        "\n",
        "* The lenght of the slab ($d$) is 4 length units. \n",
        "* The product of the opacity and the density give a fraction of $\\kappa\\rho$ = 0.25 per unit of length. \n",
        "\n",
        "### a. Find and plot the intensity as the ray crosses the slab.\n",
        "\n",
        "> **TODO** <font color='red'>: Starting from the $dI_\\lambda$ equation, derive the equation for $I(s)$ for a constant density and opacity. Show your work here. Add a curve of $I(s)$ to the plot in the code below.</font>\n",
        "\n",
        "$dI_\\lambda = -\\rho \\kappa_\\lambda I_\\lambda ds$\n",
        "\n",
        "$\\int_{I_0}^I \\frac{dI_\\lambda}{I} = \\int_{s_0}^{s} -\\rho \\kappa_\\lambda ds$\n",
        "\n",
        "$ln(I)-ln(I_0) = \\int_{s_0}^{s} -\\rho \\kappa_\\lambda ds$\n",
        "\n",
        "$I = I_0 e^{\\int_{s_0}^{s} -\\rho \\kappa_\\lambda ds}$\n",
        "\n",
        "$I = I_0 e^{-\\rho \\kappa_\\lambda(s-s_0)}$\n",
        "\n",
        "### b. Find and plot the optical depth everywhere in the slab.\n",
        "\n",
        "> **TODO** <font color='red'>: Integrate the equation for $d\\tau$ to find $\\tau(s)$. Show your work here. Add a curve of $\\tau(s)$ to the plot in the code below.  </font>\n",
        "\n",
        "$d\\tau_\\lambda = - \\kappa_\\lambda \\rho ds$\n",
        "\n",
        "$\\int_{\\tau_{obs}}^{\\tau} d\\tau_\\lambda = -\\int_{s_{obs}}^{s} \\kappa_\\lambda \\rho ds$\n",
        "\n",
        "$\\tau_\\lambda = -\\int_{s_{obs}}^{s} \\kappa_\\lambda \\rho ds$\n",
        "\n",
        "$\\tau_\\lambda = -\\kappa_\\lambda \\rho (s-s_{obs})$\n",
        "\n",
        "<br>\n",
        "<br>\n",
        "<font color=\"red\">Don't forget to add axis labels and legends to your plots</font>"
      ]
    },
    {
      "cell_type": "code",
      "execution_count": 3,
      "metadata": {
        "colab": {
          "base_uri": "https://localhost:8080/",
          "height": 300
        },
        "id": "a6r7bKJsU82n",
        "outputId": "8b8fe9cd-3c94-40eb-e625-97483b363f89",
        "scrolled": true
      },
      "outputs": [
        {
          "output_type": "execute_result",
          "data": {
            "text/plain": [
              "<matplotlib.legend.Legend at 0x7f0f30ed6690>"
            ]
          },
          "metadata": {},
          "execution_count": 3
        },
        {
          "output_type": "display_data",
          "data": {
            "text/plain": [
              "<Figure size 648x288 with 1 Axes>"
            ],
            "image/png": "[encoded data removed]"
          },
          "metadata": {
            "needs_background": "light"
          }
        }
      ],
      "source": [
        "fig, ax = plt.subplots(1,1, figsize=(9,4))\n",
        "ax.set_ylim(0, 1.2)\n",
        "ax.set_xlim(-1,5)\n",
        "\n",
        "# For the first graph, I want a patch with constant color\n",
        "cmap = plt.cm.get_cmap('Reds') # get a red scale color map\n",
        "rgba = cmap(0.5) # pick the color in the center of the color map\n",
        "rec = mpatches.Rectangle( (0, 0), 4 , 1.2, fc=rgba) # Create a shaded rectangle\n",
        "ax.add_patch(rec) # add the rectangle to the plot\n",
        "ax.text(5.2, 0.5, 'Observer is here', style='italic',\n",
        "        bbox={'facecolor':'red', 'pad':5})\n",
        "plt.xlabel(\"s (m)\")\n",
        "plt.ylabel(\"Intensity (W/m^2) / Optical Depth\")\n",
        "\n",
        "\n",
        "#---------------------------------------\n",
        "# a. Intensity\n",
        "Io = 1.0\n",
        "kappa_rho = 0.25\n",
        "ss = np.arange(-1,5,0.1)\n",
        "I = Io * np.exp(-1*kappa_rho*ss)\n",
        "\n",
        "n = np.where(ss < 0)\n",
        "I[n[0]] = Io\n",
        "n = np.where(ss > 3.9)\n",
        "I[n[0]] = I[n[0][0]]\n",
        "\n",
        "\n",
        "ax.plot(ss,I,lw=3,label='Intensity')\n",
        "\n",
        "#---------------------------------------\n",
        "# b. optical depth\n",
        "\n",
        "tao = -1 * kappa_rho * (ss - 4)\n",
        "\n",
        "n = np.where(ss < 0)\n",
        "tao[n[0]] = tao[n[0][-1]]\n",
        "n = np.where(3.9 < ss)\n",
        "tao[n[0]] = tao[n[0][0]]\n",
        "\n",
        "ax.plot(ss,tao,lw=2,color=\"black\",label='Optical Depth')\n",
        "\n",
        "\n",
        "#--------------------------\n",
        "# For a legend, add label='text' to the ax.plot command\n",
        "# for which you would like a legend entry, and uncomment\n",
        "# the following line:\n",
        "ax.legend(loc=0)"
      ]
    },
    {
      "cell_type": "markdown",
      "metadata": {
        "id": "HdJ1c7lvU82o"
      },
      "source": [
        "## 2. At home: Imagine now that the density in the slab changes such that:\n",
        "\n",
        "$$ \\rho(s) = \\rho_o \\left( 1- \\frac{s}{d} \\right), $$ where $d$ is the length of the slab.\n",
        "\n",
        "> **TODO**:\n",
        ">\n",
        "> a. Find an expression for $I(s)$ is the density changed as above and if the opacity remains constant. Make your integral unit-less before integrating. Show your work here. \n",
        "\n",
        "$I = I_0 e^{\\int_{s_0}^{s} -\\rho \\kappa_\\lambda ds}$\n",
        "\n",
        "$I = I_0 e^{\\int_{s_0}^{s} -\\kappa_\\lambda \\rho_0 (1-\\frac{s}{d})ds}$\n",
        "\n",
        "$I = I_0 e^{-\\kappa_\\lambda \\rho_0 (s - s_0 - \\frac{s^2}{2d} + \\frac{s_0^2}{2d})}$\n",
        "\n",
        "> b. Analytically, find what the value of $\\rho_o \\kappa$ has to be for the final intensity to be the same as that of #1. Show your work here\n",
        "\n",
        "$I_c = I_0 e^{-\\rho \\kappa_\\lambda(s-s_0)}$\n",
        "\n",
        "$I_l = I_0 e^{-\\kappa_\\lambda \\rho_0 (s - s_0 - \\frac{s^2}{2d} + \\frac{s_0^2}{2d})}$\n",
        "\n",
        "$I_c(d) = I_l(d)$\n",
        "\n",
        "$I_0 e^{-\\rho \\kappa_\\lambda(d-s_0)} = I_0 e^{-\\kappa_\\lambda \\rho_0 (s - s_0 - \\frac{d^2}{2d} + \\frac{d_0^2}{2d})}$\n",
        "\n",
        "$2 \\rho \\kappa = \\rho_0 \\kappa_0$\n",
        "\n",
        "> c. In the graph below, plot the intensity as a function of position. \n",
        "\n",
        "> d. Find an expression for the optical depth everywhere in the slab. Make your integral unit-less before integrating. Show your work here. \n",
        "\n",
        "$\\tau_\\lambda = -\\int_{s_{obs}}^{s} \\kappa_\\lambda \\rho ds$\n",
        "\n",
        "$\\tau_\\lambda = -\\kappa_\\lambda \\rho_0  (s-s_{obs}+\\frac{s^2}{2d}-\\frac{s_{obs}^2}{2d})$\n",
        "\n",
        "> e. In the graph below, add a curve for $\\tau(s)$."
      ]
    },
    {
      "cell_type": "code",
      "execution_count": 4,
      "metadata": {
        "colab": {
          "base_uri": "https://localhost:8080/",
          "height": 296
        },
        "id": "v2s-TtXTU82p",
        "outputId": "a5d42808-98b6-413e-988f-70a15c9803af"
      },
      "outputs": [
        {
          "output_type": "execute_result",
          "data": {
            "text/plain": [
              "<matplotlib.legend.Legend at 0x7f0f3094f2d0>"
            ]
          },
          "metadata": {},
          "execution_count": 4
        },
        {
          "output_type": "display_data",
          "data": {
            "text/plain": [
              "<Figure size 648x288 with 1 Axes>"
            ],
            "image/png": "[encoded data removed]"
          },
          "metadata": {
            "needs_background": "light"
          }
        }
      ],
      "source": [
        "fig, ax = plt.subplots(1,1, figsize=(9,4))\n",
        "\n",
        "ax.set_ylim(0, 3.1)\n",
        "ax.set_xlim(-1,5)\n",
        "\n",
        "# Create a patch with a gradient to illustrate\n",
        "# the change in density\n",
        "X=np.linspace(0,4,100)\n",
        "Y1=np.copy(X)*0\n",
        "Y2=np.copy(X)*0+4\n",
        "g = 1.0-np.copy(X/4)\n",
        "rainbow_fill_between(ax,X,Y1,Y2,colors=g)\n",
        "ax.text(5.2, 0.5, 'Observer is here', style='italic',\n",
        "        bbox={'facecolor':'red', 'pad':5})\n",
        "\n",
        "plt.xlabel(\"s (m)\")\n",
        "plt.ylabel(\"Intensity (W/m^2) / Optical Depth\")\n",
        "\n",
        "#---------------------------------------\n",
        "#---------------------------------------\n",
        "# At home\n",
        "Io = 1.0\n",
        "kappa_rho = 0.5\n",
        "d = 4\n",
        "ss = np.arange(-1,5,0.1)\n",
        "I = Io * np.exp(-1*(kappa_rho)*(ss-(ss**2)/(2*d)))\n",
        "\n",
        "n = np.where(ss < 0)\n",
        "I[n[0]] = Io\n",
        "n = np.where(ss > 4)\n",
        "I[n[0]] = I[n[0][0]]\n",
        "\n",
        "ax.plot(ss,I,lw=3,color=\"blue\",label='Intensity')\n",
        "\n",
        "tao = -1 * kappa_rho * (ss - d + (ss**2)/(2*d) - (d**2)/(2*d))\n",
        "\n",
        "n = np.where(ss < 0)\n",
        "tao[n[0]] = tao[n[0][-1]]\n",
        "n = np.where(3.9 < ss)\n",
        "tao[n[0]] = tao[n[0][0]]\n",
        "\n",
        "ax.plot(ss,tao,lw=2,color=\"black\",label='Optical Depth')\n",
        "\n",
        "\n",
        "\n",
        "#--------------------------\n",
        "ax.legend(loc=0)"
      ]
    },
    {
      "cell_type": "markdown",
      "metadata": {
        "id": "gsB2zMtigU7G"
      },
      "source": [
        "## 3. Reading assignement: \"what can we measure about stars\" -- part 4\n",
        "\n",
        "In this graduate course, we are making an advanced physical and mathematical model of star. \n",
        "\n",
        "But it is still good to learn and/or remind ourselves about which physical characteristics of stars we can actually measure. You might have covered some of this in some details in previous physics or astro courses (at UD PHYS 133, 144, 333, or 469) -- but it is still a good idea to have a quick look at the suggested reading below before crafting your paragraph. \n",
        "\n",
        "One other thing that can be measured is the **mass** of a star."
      ]
    },
    {
      "cell_type": "markdown",
      "metadata": {
        "id": "JowrJHt4gs9t"
      },
      "source": [
        "> **TODO**: <font color='red'>Have a look at section 18.2 Measuring Stellar Masses of the Open Stack Astronomy online [textbook](https://openstax.org/books/astronomy/pages/5-2-the-electromagnetic-spectrum), and write a short conceptual paragraph about how astronomer can determine the masses of stars. </font>"
      ]
    }
  ],
  "metadata": {
    "anaconda-cloud": {},
    "colab": {
      "collapsed_sections": [
        "BVnVa94sU82k"
      ],
      "name": "09-Absorption.ipynb",
      "provenance": [],
      "include_colab_link": true
    },
    "kernelspec": {
      "display_name": "Python 3",
      "language": "python",
      "name": "python3"
    },
    "language_info": {
      "codemirror_mode": {
        "name": "ipython",
        "version": 3
      },
      "file_extension": ".py",
      "mimetype": "text/x-python",
      "name": "python",
      "nbconvert_exporter": "python",
      "pygments_lexer": "ipython3",
      "version": "3.8.8"
    }
  },
  "nbformat": 4,
  "nbformat_minor": 0
}