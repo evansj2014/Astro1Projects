{
 "cells": [
  {
   "cell_type": "code",
   "execution_count": 1,
   "id": "8877431e",
   "metadata": {},
   "outputs": [
    {
     "data": {
      "text/plain": [
       "<astropy.units.core._UnitContext at 0x2d706e3b340>"
      ]
     },
     "execution_count": 1,
     "metadata": {},
     "output_type": "execute_result"
    }
   ],
   "source": [
    "import numpy as np\n",
    "import seaborn as sns\n",
    "import pandas as pd\n",
    "\n",
    "import matplotlib.pyplot as plt\n",
    "%matplotlib inline \n",
    "# This option enables plots to be inline, \n",
    "# as opposed to opening in a separate window.\n",
    "\n",
    "from astropy import constants as const\n",
    "import astropy.units as u\n",
    "from astropy.units import cds\n",
    "\n",
    "sns.set_style('darkgrid') # darkgrid, white grid, dark, white and ticks\n",
    "plt.rc('axes', titlesize=18)     # fontsize of the axes title\n",
    "plt.rc('axes', labelsize=14)    # fontsize of the x and y labels\n",
    "plt.rc('xtick', labelsize=13)    # fontsize of the tick labels\n",
    "plt.rc('ytick', labelsize=13)    # fontsize of the tick labels\n",
    "plt.rc('legend', fontsize=13)    # legend fontsize\n",
    "plt.rc('font', size=13)          # controls default text sizes\n",
    "\n",
    "cds.enable()"
   ]
  },
  {
   "cell_type": "markdown",
   "id": "4a8be952",
   "metadata": {},
   "source": [
    "# Problem 1 - Solving the equation of hydrostatic equilibium with known density."
   ]
  },
  {
   "cell_type": "markdown",
   "id": "fd439d8b",
   "metadata": {},
   "source": [
    "### Constant Density and Decreasing Density"
   ]
  },
  {
   "cell_type": "code",
   "execution_count": 28,
   "id": "c942f76c",
   "metadata": {},
   "outputs": [
    {
     "data": {
      "image/png": "[encoded data removed]",
      "text/plain": [
       "<Figure size 432x432 with 1 Axes>"
      ]
     },
     "metadata": {},
     "output_type": "display_data"
    }
   ],
   "source": [
    "fig, ax = plt.subplots(1,1, figsize=(6,6))\n",
    "# The subplot routine creates a figure object (in the variable \"fig\"), which contains\n",
    "# here a single plotting window called \"axes\" (in the variable \"ax\")\n",
    "plt.rcParams.update({'font.size': 18})\n",
    "plt.rcParams.update({'font.family': 'Times New Roman'})\n",
    "# Set the font and font size for the whole figure.\n",
    "\n",
    "ax.set_xlabel('$r/R_\\star$') # the \"r\" is to say there is latex formatted strings.\n",
    "ax.set_xlim(0,1)\n",
    "\n",
    "ax.set_ylabel('$P/P_c$') \n",
    "\n",
    "#-------------------------------------------------------\n",
    "# define an array of r / Rs, from 0 to 1, with 100 elements\n",
    "r_rs = np.linspace(0,1,100)\n",
    "\n",
    "# For constant density\n",
    "P_Pc = 1.0 - r_rs**2\n",
    "\n",
    "ax.plot(r_rs, P_Pc, c='red', label='Constant Density')\n",
    "\n",
    "#-------------------------------------------------------\n",
    "# For linearly decreasing density\n",
    "P_Pc = 1.0 - 4.8 * r_rs**2 + 5.6 * r_rs**3 - 1.8 * r_rs**4\n",
    "\n",
    "ax.plot(r_rs, P_Pc, c='green', label='Linear Density')\n",
    "#-------------------------------------------------------\n",
    "ax.legend(loc=0, fontsize=15)\n",
    "plt.tight_layout()\n",
    "# arrange the plot nicely"
   ]
  },
  {
   "cell_type": "markdown",
   "id": "703bdf6a",
   "metadata": {},
   "source": [
    "# Problem 2 - Now we would like to calculate the numerical value of the central pressure for a star of 1$M_{\\odot}$ and 1$R_{\\odot}$."
   ]
  },
  {
   "cell_type": "markdown",
   "id": "0268b5ad",
   "metadata": {},
   "source": [
    "### 2a. Constant Density"
   ]
  },
  {
   "cell_type": "code",
   "execution_count": 42,
   "id": "fb99e3de",
   "metadata": {},
   "outputs": [
    {
     "name": "stdout",
     "output_type": "stream",
     "text": [
      "In cgs units, the mean density of the sun is 1.41 g / cm3\n",
      "The central pressure is 1.34e+15 dyn / cm2\n"
     ]
    }
   ],
   "source": [
    "rho = 1 * u.M_sun * 3.0 / (4.0 * np.pi * u.R_sun**3)\n",
    "#print(rho)\n",
    "\n",
    "#print(rho.decompose())\n",
    "#print(rho.to(u.g / u.cm**3))\n",
    "#print(rho.cgs)\n",
    "\n",
    "print('In cgs units, the mean density of the sun is {:0.3g}'.format(rho.cgs))\n",
    "\n",
    "gs = const.G * u.M_sun / u.R_sun**2\n",
    "Pc = rho * gs * u.R_sun / 2.0\n",
    "\n",
    "print('The central pressure is {:0.3g}'.format(Pc.to(u.dyn / u.cm**2)))"
   ]
  },
  {
   "cell_type": "markdown",
   "id": "08952dd4",
   "metadata": {},
   "source": [
    "### 2b. Linearly Decreasing Density"
   ]
  },
  {
   "cell_type": "code",
   "execution_count": 41,
   "id": "d7551773",
   "metadata": {},
   "outputs": [
    {
     "name": "stdout",
     "output_type": "stream",
     "text": [
      "Central density in cgs 5.64 g / cm3\n",
      "Central pressure is 4.48e+15 dyn / cm2\n"
     ]
    }
   ],
   "source": [
    "rho = 3 * u.M_sun / (np.pi * u.R_sun**3)\n",
    "print('Central density in cgs {:0.3g}'.format(rho.cgs))\n",
    "\n",
    "gs = n.G * u.M_sun / u.R_sun**2\n",
    "Pc = 5.0 * rho * gs * u.R_sun / 12.0\n",
    "print('Central pressure is {:0.3g}'.format(Pc.to(u.dyn / u.cm**2)))"
   ]
  }
 ],
 "metadata": {
  "kernelspec": {
   "display_name": "Python 3 (ipykernel)",
   "language": "python",
   "name": "python3"
  },
  "language_info": {
   "codemirror_mode": {
    "name": "ipython",
    "version": 3
   },
   "file_extension": ".py",
   "mimetype": "text/x-python",
   "name": "python",
   "nbconvert_exporter": "python",
   "pygments_lexer": "ipython3",
   "version": "3.9.12"
  }
 },
 "nbformat": 4,
 "nbformat_minor": 5
}
