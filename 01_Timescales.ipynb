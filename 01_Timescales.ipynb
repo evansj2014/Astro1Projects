{
  "cells": [
    {
      "cell_type": "markdown",
      "metadata": {
        "id": "JvlvrobT8CzO"
      },
      "source": [
        "# <font color='purple'>01-Timescales</font>"
      ]
    },
    {
      "cell_type": "markdown",
      "metadata": {
        "id": "3TLjzlZn8CzY"
      },
      "source": [
        "## 1. Welcome to your notebooks!\n",
        "\n",
        "This is a markdown cell. \n",
        "\n",
        "It is a very flexible way to include explanations of the code cell that follows.\n",
        "\n",
        "It supports HTML type formatting. For example, here's a <font color='red'> sentence written in red </font>.\n",
        "\n",
        "It can also interpret latex commands for math symbols:\n",
        "\n",
        "$$ i \\hbar \\frac{\\partial}{\\partial t} \\Psi(\\mathbf{r}, t) = \\left[ -\\frac{\\hbar^2}{2\\mu}\\nabla^2 + V(\\mathbf{r}, t) \\right] \\Psi(\\mathbf{r}, t).$$\n",
        "\n",
        "Using one \\$ creates a inline equation or symbol e.g. $\\alpha=\\pi$.\n",
        "\n",
        "See a list of useful math symbols [here](https://www.math.uci.edu/~xiangwen/pdf/LaTeX-Math-Symbols.pdf)"
      ]
    },
    {
      "cell_type": "markdown",
      "metadata": {
        "id": "jXEgq5fE8CzZ"
      },
      "source": [
        "#### We start by importing the modules\n",
        "* Numpy -- operations on arrays and matrixes (and pi)\n",
        "* Astropy constants -- defines physical and astronomical constants\n",
        "* Astropy units -- defined quantities with units. We also import the CDS conversions\n",
        "\n",
        "\n",
        "> **Note:**<font color='green'> To execute the code in a cell, use \"Shift - enter\"</font>"
      ]
    },
    {
      "cell_type": "code",
      "execution_count": 9,
      "metadata": {
        "collapsed": true,
        "id": "H9FW12D68Cza"
      },
      "outputs": [],
      "source": [
        "from astropy import constants as const\n",
        "import astropy.units as u\n",
        "from astropy.units import cds\n",
        "cds.enable() \n",
        "\n",
        "import numpy as np"
      ]
    },
    {
      "cell_type": "markdown",
      "metadata": {
        "id": "BwIHgY7h8Czc"
      },
      "source": [
        "Here's a few constants that we will need later"
      ]
    },
    {
      "cell_type": "code",
      "execution_count": 10,
      "metadata": {
        "id": "l3cSyAsR8Czc"
      },
      "outputs": [],
      "source": [
        "Lsun = const.L_sun.decompose() # solar luminosity\n",
        "Msun = const.M_sun.decompose() # mass of the sun\n",
        "Rsun = const.R_sun.decompose() # radius of the sun\n",
        "G = const.G.decompose() # Avogadro's constant\n",
        "c = const.c.decompose() # speed of light constant"
      ]
    },
    {
      "cell_type": "markdown",
      "metadata": {
        "id": "3oZiA5I98Czd"
      },
      "source": [
        "## 2. Kelvin-Helmholtz timescale\n",
        "\n",
        "We want to find the potential energy with \n",
        "$$ \\Delta \\Omega = \\frac{3}{5} \\frac{G M_\\odot^2}{R_\\odot}$$\n",
        "\n",
        "According to the virial theorem, half of the potential energy lost goes into thermal energy, and the other half escapes into radiation. The Kelvin-Helmholtz timescale will therefore be:\n",
        "$$ \\frac{\\Delta \\Omega}{2 L_\\odot}$$"
      ]
    },
    {
      "cell_type": "code",
      "execution_count": 12,
      "metadata": {
        "id": "xBlzQ1Y-8Cze",
        "outputId": "e97ec673-e3ba-4a0a-dc1d-d93ece2c3aad",
        "colab": {
          "base_uri": "https://localhost:8080/"
        }
      },
      "outputs": [
        {
          "output_type": "stream",
          "name": "stdout",
          "text": [
            "Potential Energy Lost 2.275866542996316e+41 kg m2 / s2\n",
            "Kelvin-Helmholtz timescale 297265744905474.94 s\n",
            "Kelvin-Helmholtz timescale 9.41978302866742 Myr\n"
          ]
        }
      ],
      "source": [
        "PotentialEnergy = 3 * G * Msun**2/(5*Rsun)\n",
        "print (\"Potential Energy Lost\", PotentialEnergy)\n",
        "\n",
        "t_KH = PotentialEnergy/(2 * Lsun)\n",
        "print (\"Kelvin-Helmholtz timescale\", t_KH)\n",
        "print (\"Kelvin-Helmholtz timescale\", t_KH.to(u.Myr))"
      ]
    },
    {
      "cell_type": "markdown",
      "metadata": {
        "id": "h1e6D2At8Czh"
      },
      "source": [
        ">The Kelvin-Helmholtz tmescale is the approximate time it takes for a star to radiate away a significant fraction of its thermal energy. The results give the potential energy for the sun, the Kelvin-Helmholtz timescale in seconds, and the timescale converted into million years. By these calculations, it will take roughly 9.4 million years for the sun to lose half of its potential energy.\n"
      ]
    },
    {
      "cell_type": "markdown",
      "metadata": {
        "id": "kEJ_h0Zu8Czj"
      },
      "source": [
        "## 3. Nuclear timescale\n"
      ]
    },
    {
      "cell_type": "markdown",
      "source": [
        "> The nuclear energy generated by the Sun is found using $E=mc^2$ and the time it takes for this process is $$t = \\frac{E}{L_\\odot}$$ We can use this to find how much nuclear energy and the nuclear timescale it takes to burn off portions of the sun."
      ],
      "metadata": {
        "id": "59cLS0a7Mz9h"
      }
    },
    {
      "cell_type": "code",
      "execution_count": 13,
      "metadata": {
        "id": "hg_y55bt8Czl",
        "colab": {
          "base_uri": "https://localhost:8080/"
        },
        "outputId": "6c569857-728d-4b66-fc05-3d3c76446b4c"
      },
      "outputs": [
        {
          "output_type": "stream",
          "name": "stdout",
          "text": [
            "Nuclear Energy 1.2509655681188955e+44 kg m2 / s2\n",
            "Nuclear Timescale 3.267935130927104e+17 s\n",
            "Nuclear Timescale 10.355461539936826 Gyr\n"
          ]
        }
      ],
      "source": [
        "NuclearEnergy = 0.0007 * Msun * c**2\n",
        "print (\"Nuclear Energy\", NuclearEnergy)\n",
        "t_nuc=NuclearEnergy/Lsun\n",
        "print (\"Nuclear Timescale\",t_nuc)\n",
        "print(\"Nuclear Timescale\", t_nuc.to(u.Gyr))"
      ]
    },
    {
      "cell_type": "markdown",
      "metadata": {
        "id": "mQZK1Jkl8Czm"
      },
      "source": [
        "> These results show the nuclear energy and the nuclear timescale it takes to burn off 0.07% of $M_\\odot$. The nuclear timescale is then converted into billions of years and calculated here to be about 10.3 billion years.\n"
      ]
    },
    {
      "cell_type": "markdown",
      "metadata": {
        "id": "gu4crt4p8Czn"
      },
      "source": [
        "## 4. Hydrodynamic timescale"
      ]
    },
    {
      "cell_type": "markdown",
      "source": [
        "> A dynamic timescale is the time it takes for a star's stability to respond to changes. One dynamic timescale is the free fall time, which is the time it would take for a star to collapse under its own gravity if the pressure was 'turned off'. The free fall time is given by\n",
        "$$t = \\sqrt{\\frac{R}{g}} = \\sqrt{\\frac{R_\\odot^3}{G M_\\odot}}$$"
      ],
      "metadata": {
        "id": "aR3Pb_6gLSOx"
      }
    },
    {
      "cell_type": "code",
      "execution_count": 11,
      "metadata": {
        "id": "m3-vNtPU8Czn",
        "colab": {
          "base_uri": "https://localhost:8080/"
        },
        "outputId": "9b39a464-41c1-4388-cbb1-f091a439af36"
      },
      "outputs": [
        {
          "output_type": "stream",
          "name": "stdout",
          "text": [
            "dynamical timescale 1592.858465636675 s\n"
          ]
        }
      ],
      "source": [
        "dynamicaltimescale=(Rsun**3/(G*Msun))**(0.5)\n",
        "print (\"dynamical timescale\", dynamicaltimescale)"
      ]
    },
    {
      "cell_type": "markdown",
      "metadata": {
        "collapsed": true,
        "id": "_5Sc9Tia8Czp"
      },
      "source": [
        "> The result shown is for the free fall time of the sun in seconds. Another dynamic timescale is the expansion time, which considers if gravity were 'turned off'. These two timescales are comparable so that a star can stay in hydrostatic equilibrium. Combining the free fall timescale and the expansion timescale gives the hydrodynamical timescale for a star.\n",
        "\n",
        "Reference: http://csep10.phys.utk.edu/OJTA2dev/ojta/c2c/starbirth/main/timescales_tl.html"
      ]
    },
    {
      "cell_type": "markdown",
      "metadata": {
        "id": "RmWYBhui8Czp"
      },
      "source": [
        "## **5. Reading assignement: \"what can we measure about stars\"**\n",
        "\n",
        "In this graduate course, we are making an advanced physical and mathematical model of star. \n",
        "\n",
        "But it is still good to learn and/or remind ourselves about which physical characteristics of stars we can actually measure. You might have covered some of this in some details in previous physics or astro courses (at UD PHYS 133, 144, 333, or 469) -- but it is still a good idea to have a quick look at the suggested reading below before crafting your paragraph. \n",
        "\n",
        "One thing that can be measured is the **surface temperature** of a star. [link text](https://)"
      ]
    },
    {
      "cell_type": "markdown",
      "metadata": {
        "id": "bYPyxRQI8Czp"
      },
      "source": [
        "> **TODO**: <font color='red'>Have a look at section 5.2 of the Open Stack Astronomy online [textbook](https://openstax.org/books/astronomy/pages/5-2-the-electromagnetic-spectrum), and write a short conceptual paragraph about how the law of radiation allows astronomer to determine the temperature of stars. </font>\n",
        "\n",
        "An object's temperature, the average motion of its particles, determines what kind of electromagnetic radiation it emits because the atoms colliding give off electromagnetic radiation. An object that absorbs all radiation without reflecting or scattering is called a blackbody. This absorption eventually causes the object to heat up until absorption and radiation are in balance. Understanding that a blackbody emits radiation at all wavelengths, an object with a higher temperature emits more power at all wavelengths, and a higher temperature corresponds to a shorter wavelength allows us to come up with a way to measure the temperature of stars. For example, a blue star is hotter than a red star because it has a shorter wavelength. A more precise way to measure the temperature of a star can be done using Wein's Law. This gives the wavelength that maximum power is emitted where the wavelength is in nanometers, the temperature is in Kelvin, and the constant ${3 \\times 10^{6}}$ has units of nm x K: $$ \\lambda_{max} = \\frac{3 \\times 10^{6}}{T}$$\n"
      ]
    }
  ],
  "metadata": {
    "anaconda-cloud": {},
    "kernelspec": {
      "display_name": "Python 3",
      "name": "python3"
    },
    "language_info": {
      "name": "python"
    },
    "colab": {
      "provenance": []
    }
  },
  "nbformat": 4,
  "nbformat_minor": 0
}