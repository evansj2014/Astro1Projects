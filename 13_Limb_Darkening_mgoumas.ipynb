{
  "cells": [
    {
      "cell_type": "code",
      "execution_count": 1,
      "metadata": {
        "collapsed": true,
        "id": "MEnVWe7QRK8d"
      },
      "outputs": [],
      "source": [
        "import numpy as np\n",
        "import matplotlib.pyplot as plt\n",
        "import matplotlib.patches as mpatches\n",
        "%matplotlib inline\n",
        "\n",
        "from astropy import constants as const\n",
        "import astropy.units as u\n",
        "from astropy.units import cds\n",
        "cds.enable()\n",
        "\n",
        "from scipy import interpolate"
      ]
    },
    {
      "cell_type": "markdown",
      "metadata": {
        "id": "rNI3Jn5sRK8e"
      },
      "source": [
        "## 1. Planck Function as a Function of Wavelength"
      ]
    },
    {
      "cell_type": "code",
      "execution_count": 2,
      "metadata": {
        "id": "KxKIKgoKRK8g",
        "outputId": "a66a48ab-4f30-498c-993b-98421b35983c",
        "colab": {
          "base_uri": "https://localhost:8080/",
          "height": 289
        }
      },
      "outputs": [
        {
          "output_type": "display_data",
          "data": {
            "text/plain": [
              "<Figure size 432x288 with 1 Axes>"
            ],
            "image/png": "[encoded data removed]"
          },
          "metadata": {
            "needs_background": "light"
          }
        }
      ],
      "source": [
        "rangelambda = np.linspace(10**2, 10**3, 37) * u.nm\n",
        "\n",
        "c1 = 2.0 * const.h * const.c**2\n",
        "c2 = const.h * const.c / const.k_B\n",
        "T = 5770.0 * u.K\n",
        "\n",
        "\n",
        "def Planck(rangelambda, T):\n",
        "    B = (c1 / rangelambda**5) * (np.exp(c2/T/rangelambda)-1.0)**-1.0\n",
        "    return B.to(u.joule / u.s / u.m**2 / u.nm)\n",
        "\n",
        "\n",
        "fig, ax = plt.subplots(1,1)\n",
        "\n",
        "ax.set_xlabel('Wavelength (nm)')\n",
        "ax.set_ylabel('Planck Function (watts/m^2/nm)')\n",
        "ax.set_xscale('log')\n",
        "ax.set_yscale('log')\n",
        "ax.set_xlim(10**2, 10**3)\n",
        "ax.set_ylim(10**-1, 10**5)\n",
        "\n",
        "ax.plot(rangelambda, Planck(rangelambda,T))\n",
        "\n",
        "plt.show()"
      ]
    },
    {
      "cell_type": "markdown",
      "metadata": {
        "id": "TclTVhF7RK8h"
      },
      "source": [
        "## 2. Reading in a Model for the Atmosphere of a Star Similar to the Sun"
      ]
    },
    {
      "cell_type": "code",
      "execution_count": 4,
      "metadata": {
        "id": "8u89x8kqRK8h",
        "outputId": "920e6dcb-8521-43a1-892b-9e0561eedb7f",
        "colab": {
          "base_uri": "https://localhost:8080/",
          "height": 283
        }
      },
      "outputs": [
        {
          "output_type": "display_data",
          "data": {
            "text/plain": [
              "<Figure size 432x288 with 1 Axes>"
            ],
            "image/png": "[encoded data removed]"
          },
          "metadata": {
            "needs_background": "light"
          }
        }
      ],
      "source": [
        "data = np.genfromtxt('https://raw.githubusercontent.com/evansj2014/Astro1Projects/main/Data_Files/06000g40.krz', skip_header=13, delimiter=',')\n",
        "\n",
        "amass = data[:,0] # column mass density in g/cm^2\n",
        "Temp = data[:,1] # Temperature in K\n",
        "\n",
        "fig, ax = plt.subplots(1,1)\n",
        "\n",
        "ax.scatter(amass, Temp)\n",
        "x = np.array([2,3,4,5,6])\n",
        "\n",
        "func = interpolate.interp1d(amass, Temp)\n",
        "\n",
        "ax.scatter(x, func(x), c='red')\n",
        "\n",
        "func = interpolate.interp1d(amass, Temp*2)\n",
        "\n",
        "ax.scatter(x, func(x), c='red')\n",
        "\n",
        "ax.set_xlabel('Column Mass Density (g/cm^2)')\n",
        "ax.set_ylabel('Temperature (K)')\n",
        "ax.set_xlim(-2,10)\n",
        "ax.set_ylim(2000,16000)\n",
        "\n",
        "plt.show()"
      ]
    },
    {
      "cell_type": "markdown",
      "metadata": {
        "id": "2nRETEP2RK8i"
      },
      "source": [
        "## 3. Predicted Limb Darkening"
      ]
    },
    {
      "cell_type": "code",
      "execution_count": 5,
      "metadata": {
        "id": "aVpDJoAJRK8i",
        "outputId": "69c3669b-7fc4-4a63-abaf-46e3dbea60d5",
        "colab": {
          "base_uri": "https://localhost:8080/"
        }
      },
      "outputs": [
        {
          "output_type": "stream",
          "name": "stdout",
          "text": [
            "Wavelength, I_I0, tau, mu, kappa\n",
            "300 0.475 0.7444404749474959 0.5 1.4888809498949918\n",
            "400 0.58 0.5447271754416722 0.5 1.0894543508833443\n",
            "500 0.68 0.3856624808119846 0.5 0.7713249616239692\n"
          ]
        }
      ],
      "source": [
        "print('Wavelength, I_I0, tau, mu, kappa')\n",
        "mu = 0.5\n",
        "\n",
        "wavelength = 300\n",
        "I_I0 = 0.475\n",
        "tau = -np.log(I_I0)\n",
        "kappa = tau/mu\n",
        "print(wavelength, I_I0, tau, mu, kappa)\n",
        "\n",
        "wavelength = 400\n",
        "I_I0 = 0.58\n",
        "tau = -np.log(I_I0)\n",
        "kappa = tau/mu\n",
        "print(wavelength, I_I0, tau, mu, kappa)\n",
        "\n",
        "wavelength = 500\n",
        "I_I0 = 0.68\n",
        "tau = -np.log(I_I0)\n",
        "kappa = tau/mu\n",
        "print(wavelength, I_I0, tau, mu, kappa)"
      ]
    },
    {
      "cell_type": "code",
      "execution_count": 5,
      "metadata": {
        "collapsed": true,
        "id": "2fmDfmz0RK8j"
      },
      "outputs": [],
      "source": []
    }
  ],
  "metadata": {
    "anaconda-cloud": {},
    "kernelspec": {
      "display_name": "Python [conda env:anaconda]",
      "language": "python",
      "name": "conda-env-anaconda-py"
    },
    "language_info": {
      "codemirror_mode": {
        "name": "ipython",
        "version": 3
      },
      "file_extension": ".py",
      "mimetype": "text/x-python",
      "name": "python",
      "nbconvert_exporter": "python",
      "pygments_lexer": "ipython3",
      "version": "3.5.2"
    },
    "colab": {
      "provenance": []
    }
  },
  "nbformat": 4,
  "nbformat_minor": 0
}