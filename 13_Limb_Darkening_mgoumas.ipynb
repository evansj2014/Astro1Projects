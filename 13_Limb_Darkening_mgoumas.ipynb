{
  "cells": [
    {
      "cell_type": "code",
      "execution_count": 1,
      "metadata": {
        "collapsed": true,
        "id": "MEnVWe7QRK8d"
      },
      "outputs": [],
      "source": [
        "import numpy as np\n",
        "import matplotlib.pyplot as plt\n",
        "import matplotlib.patches as mpatches\n",
        "%matplotlib inline\n",
        "\n",
        "from astropy import constants as const\n",
        "import astropy.units as u\n",
        "from astropy.units import cds\n",
        "cds.enable()\n",
        "\n",
        "from scipy import interpolate"
      ]
    },
    {
      "cell_type": "markdown",
      "metadata": {
        "id": "rNI3Jn5sRK8e"
      },
      "source": [
        "## 1. Planck Function as a Function of Wavelength"
      ]
    },
    {
      "cell_type": "code",
      "execution_count": 2,
      "metadata": {
        "id": "KxKIKgoKRK8g",
        "outputId": "cff36e10-95f1-4ecb-b461-ea73e76f4da6",
        "colab": {
          "base_uri": "https://localhost:8080/",
          "height": 289
        }
      },
      "outputs": [
        {
          "output_type": "display_data",
          "data": {
            "text/plain": [
              "<Figure size 432x288 with 1 Axes>"
            ],
            "image/png": "[encoded data removed]"
          },
          "metadata": {
            "needs_background": "light"
          }
        }
      ],
      "source": [
        "rangelambda = np.linspace(10**2, 10**3, 37) * u.nm\n",
        "\n",
        "c1 = 2.0 * const.h * const.c**2\n",
        "c2 = const.h * const.c / const.k_B\n",
        "T = 5770.0 * u.K\n",
        "\n",
        "\n",
        "def Planck(rangelambda, T):\n",
        "    B = (c1 / rangelambda**5) * (np.exp(c2/T/rangelambda)-1.0)**-1.0\n",
        "    return B.to(u.joule / u.s / u.m**2 / u.nm)\n",
        "\n",
        "\n",
        "fig, ax = plt.subplots(1,1)\n",
        "\n",
        "ax.set_xlabel('Wavelength (nm)')\n",
        "ax.set_ylabel('Planck Function (watts/m^2/nm)')\n",
        "ax.set_xscale('log')\n",
        "ax.set_yscale('log')\n",
        "ax.set_xlim(10**2, 10**3)\n",
        "ax.set_ylim(10**-1, 10**5)\n",
        "\n",
        "ax.plot(rangelambda, Planck(rangelambda,T))\n",
        "\n",
        "plt.show()"
      ]
    },
    {
      "cell_type": "markdown",
      "metadata": {
        "id": "TclTVhF7RK8h"
      },
      "source": [
        "## 2. Reading in a Model for the Atmosphere of a Star Similar to the Sun"
      ]
    },
    {
      "cell_type": "code",
      "execution_count": 4,
      "metadata": {
        "id": "8u89x8kqRK8h",
        "outputId": "300e3538-3034-4fcf-f4e3-e7d459d88095",
        "colab": {
          "base_uri": "https://localhost:8080/",
          "height": 1000
        }
      },
      "outputs": [
        {
          "output_type": "error",
          "ename": "ValueError",
          "evalue": "ignored",
          "traceback": [
            "\u001b[0;31m---------------------------------------------------------------------------\u001b[0m",
            "\u001b[0;31mValueError\u001b[0m                                Traceback (most recent call last)",
            "\u001b[0;32m<ipython-input-4-ae93856f6321>\u001b[0m in \u001b[0;36m<module>\u001b[0;34m\u001b[0m\n\u001b[0;32m----> 1\u001b[0;31m \u001b[0mdata\u001b[0m \u001b[0;34m=\u001b[0m \u001b[0mnp\u001b[0m\u001b[0;34m.\u001b[0m\u001b[0mgenfromtxt\u001b[0m\u001b[0;34m(\u001b[0m\u001b[0;34m'https://github.com/evansj2014/Astro1Projects/blob/cb4e5e308432001461fb69af9c6d10342634bb1b/Data_Files/06000g40.krz'\u001b[0m\u001b[0;34m,\u001b[0m \u001b[0mskip_header\u001b[0m\u001b[0;34m=\u001b[0m\u001b[0;36m13\u001b[0m\u001b[0;34m,\u001b[0m \u001b[0mdelimiter\u001b[0m\u001b[0;34m=\u001b[0m\u001b[0;34m','\u001b[0m\u001b[0;34m)\u001b[0m\u001b[0;34m\u001b[0m\u001b[0;34m\u001b[0m\u001b[0m\n\u001b[0m\u001b[1;32m      2\u001b[0m \u001b[0;34m\u001b[0m\u001b[0m\n\u001b[1;32m      3\u001b[0m \u001b[0mamass\u001b[0m \u001b[0;34m=\u001b[0m \u001b[0mdata\u001b[0m\u001b[0;34m[\u001b[0m\u001b[0;34m:\u001b[0m\u001b[0;34m,\u001b[0m\u001b[0;36m0\u001b[0m\u001b[0;34m]\u001b[0m \u001b[0;31m# column mass density in g/cm^2\u001b[0m\u001b[0;34m\u001b[0m\u001b[0;34m\u001b[0m\u001b[0m\n\u001b[1;32m      4\u001b[0m \u001b[0mTemp\u001b[0m \u001b[0;34m=\u001b[0m \u001b[0mdata\u001b[0m\u001b[0;34m[\u001b[0m\u001b[0;34m:\u001b[0m\u001b[0;34m,\u001b[0m\u001b[0;36m1\u001b[0m\u001b[0;34m]\u001b[0m \u001b[0;31m# Temperature in K\u001b[0m\u001b[0;34m\u001b[0m\u001b[0;34m\u001b[0m\u001b[0m\n\u001b[1;32m      5\u001b[0m \u001b[0;34m\u001b[0m\u001b[0m\n",
            "\u001b[0;32m/usr/local/lib/python3.7/dist-packages/numpy/lib/npyio.py\u001b[0m in \u001b[0;36mgenfromtxt\u001b[0;34m(fname, dtype, comments, delimiter, skip_header, skip_footer, converters, missing_values, filling_values, usecols, names, excludelist, deletechars, replace_space, autostrip, case_sensitive, defaultfmt, unpack, usemask, loose, invalid_raise, max_rows, encoding, like)\u001b[0m\n\u001b[1;32m   2122\u001b[0m             \u001b[0;31m# Raise an exception ?\u001b[0m\u001b[0;34m\u001b[0m\u001b[0;34m\u001b[0m\u001b[0;34m\u001b[0m\u001b[0m\n\u001b[1;32m   2123\u001b[0m             \u001b[0;32mif\u001b[0m \u001b[0minvalid_raise\u001b[0m\u001b[0;34m:\u001b[0m\u001b[0;34m\u001b[0m\u001b[0;34m\u001b[0m\u001b[0m\n\u001b[0;32m-> 2124\u001b[0;31m                 \u001b[0;32mraise\u001b[0m \u001b[0mValueError\u001b[0m\u001b[0;34m(\u001b[0m\u001b[0merrmsg\u001b[0m\u001b[0;34m)\u001b[0m\u001b[0;34m\u001b[0m\u001b[0;34m\u001b[0m\u001b[0m\n\u001b[0m\u001b[1;32m   2125\u001b[0m             \u001b[0;31m# Issue a warning ?\u001b[0m\u001b[0;34m\u001b[0m\u001b[0;34m\u001b[0m\u001b[0;34m\u001b[0m\u001b[0m\n\u001b[1;32m   2126\u001b[0m             \u001b[0;32melse\u001b[0m\u001b[0;34m:\u001b[0m\u001b[0;34m\u001b[0m\u001b[0;34m\u001b[0m\u001b[0m\n",
            "\u001b[0;31mValueError\u001b[0m: Some errors were detected !\n    Line #28 (got 367 columns instead of 1)\n    Line #81 (got 3 columns instead of 1)\n    Line #126 (got 4 columns instead of 1)\n    Line #188 (got 3 columns instead of 1)\n    Line #197 (got 6 columns instead of 1)\n    Line #229 (got 4 columns instead of 1)\n    Line #242 (got 4 columns instead of 1)\n    Line #255 (got 4 columns instead of 1)\n    Line #268 (got 4 columns instead of 1)\n    Line #281 (got 4 columns instead of 1)\n    Line #294 (got 4 columns instead of 1)\n    Line #307 (got 4 columns instead of 1)\n    Line #320 (got 4 columns instead of 1)\n    Line #337 (got 4 columns instead of 1)\n    Line #344 (got 4 columns instead of 1)\n    Line #353 (got 4 columns instead of 1)\n    Line #362 (got 4 columns instead of 1)\n    Line #387 (got 4 columns instead of 1)\n    Line #394 (got 4 columns instead of 1)\n    Line #401 (got 4 columns instead of 1)\n    Line #412 (got 4 columns instead of 1)\n    Line #422 (got 4 columns instead of 1)\n    Line #431 (got 4 columns instead of 1)\n    Line #444 (got 4 columns instead of 1)\n    Line #451 (got 4 columns instead of 1)\n    Line #475 (got 4 columns instead of 1)\n    Line #489 (got 4 columns instead of 1)\n    Line #504 (got 4 columns instead of 1)\n    Line #511 (got 4 columns instead of 1)\n    Line #518 (got 4 columns instead of 1)\n    Line #530 (got 3 columns instead of 1)\n    Line #549 (got 2 columns instead of 1)\n    Line #748 (got 6 columns instead of 1)\n    Line #749 (got 3 columns instead of 1)\n    Line #756 (got 6 columns instead of 1)\n    Line #757 (got 3 columns instead of 1)\n    Line #858 (got 6 columns instead of 1)\n    Line #865 (got 6 columns instead of 1)\n    Line #874 (got 6 columns instead of 1)\n    Line #1058 (got 5 columns instead of 1)\n    Line #1224 (got 2 columns instead of 1)\n    Line #1249 (got 7 columns instead of 1)\n    Line #1290 (got 2 columns instead of 1)\n    Line #1351 (got 6 columns instead of 1)\n    Line #1360 (got 2 columns instead of 1)\n    Line #1389 (got 6 columns instead of 1)\n    Line #1431 (got 2 columns instead of 1)\n    Line #1502 (got 6 columns instead of 1)\n    Line #1506 (got 6 columns instead of 1)\n    Line #1510 (got 6 columns instead of 1)\n    Line #1514 (got 6 columns instead of 1)\n    Line #1518 (got 6 columns instead of 1)\n    Line #1522 (got 6 columns instead of 1)\n    Line #1526 (got 6 columns instead of 1)\n    Line #1530 (got 6 columns instead of 1)\n    Line #1534 (got 6 columns instead of 1)\n    Line #1538 (got 6 columns instead of 1)\n    Line #1542 (got 6 columns instead of 1)\n    Line #1546 (got 6 columns instead of 1)\n    Line #1550 (got 6 columns instead of 1)\n    Line #1554 (got 6 columns instead of 1)\n    Line #1558 (got 6 columns instead of 1)\n    Line #1562 (got 6 columns instead of 1)\n    Line #1566 (got 6 columns instead of 1)\n    Line #1570 (got 6 columns instead of 1)\n    Line #1574 (got 6 columns instead of 1)\n    Line #1578 (got 6 columns instead of 1)\n    Line #1582 (got 6 columns instead of 1)\n    Line #1586 (got 6 columns instead of 1)\n    Line #1590 (got 6 columns instead of 1)\n    Line #1594 (got 6 columns instead of 1)\n    Line #1598 (got 6 columns instead of 1)\n    Line #1602 (got 6 columns instead of 1)\n    Line #1606 (got 6 columns instead of 1)\n    Line #1610 (got 6 columns instead of 1)\n    Line #1614 (got 6 columns instead of 1)\n    Line #1618 (got 6 columns instead of 1)\n    Line #1622 (got 6 columns instead of 1)\n    Line #1626 (got 6 columns instead of 1)\n    Line #1630 (got 6 columns instead of 1)\n    Line #1634 (got 6 columns instead of 1)\n    Line #1638 (got 6 columns instead of 1)\n    Line #1642 (got 6 columns instead of 1)\n    Line #1646 (got 6 columns instead of 1)\n    Line #1650 (got 6 columns instead of 1)\n    Line #1654 (got 6 columns instead of 1)\n    Line #1658 (got 6 columns instead of 1)\n    Line #1662 (got 6 columns instead of 1)\n    Line #1666 (got 6 columns instead of 1)\n    Line #1670 (got 6 columns instead of 1)\n    Line #1674 (got 6 columns instead of 1)\n    Line #1678 (got 6 columns instead of 1)\n    Line #1682 (got 6 columns instead of 1)\n    Line #1686 (got 6 columns instead of 1)\n    Line #1690 (got 6 columns instead of 1)\n    Line #1694 (got 6 columns instead of 1)\n    Line #1698 (got 6 columns instead of 1)\n    Line #1702 (got 6 columns instead of 1)\n    Line #1706 (got 6 columns instead of 1)\n    Line #1710 (got 6 columns instead of 1)\n    Line #1714 (got 6 columns instead of 1)\n    Line #1718 (got 6 columns instead of 1)\n    Line #1722 (got 6 columns instead of 1)\n    Line #1726 (got 6 columns instead of 1)\n    Line #1730 (got 6 columns instead of 1)\n    Line #1734 (got 6 columns instead of 1)\n    Line #1738 (got 6 columns instead of 1)\n    Line #1742 (got 6 columns instead of 1)\n    Line #1746 (got 6 columns instead of 1)\n    Line #1750 (got 6 columns instead of 1)\n    Line #1754 (got 6 columns instead of 1)\n    Line #1831 (got 2 columns instead of 1)\n    Line #1839 (got 3 columns instead of 1)\n    Line #1840 (got 3 columns instead of 1)\n    Line #1841 (got 3 columns instead of 1)\n    Line #1842 (got 3 columns instead of 1)\n    Line #1843 (got 3 columns instead of 1)\n    Line #1844 (got 3 columns instead of 1)\n    Line #1845 (got 3 columns instead of 1)\n    Line #1846 (got 3 columns instead of 1)\n    Line #1847 (got 3 columns instead of 1)\n    Line #1848 (got 3 columns instead of 1)\n    Line #1849 (got 3 columns instead of 1)"
          ]
        }
      ],
      "source": [
        "data = np.genfromtxt('https://github.com/evansj2014/Astro1Projects/blob/cb4e5e308432001461fb69af9c6d10342634bb1b/Data_Files/06000g40.krz', skip_header=13, delimiter=',')\n",
        "\n",
        "amass = data[:,0] # column mass density in g/cm^2\n",
        "Temp = data[:,1] # Temperature in K\n",
        "\n",
        "fig, ax = plt.subplots(1,1)\n",
        "\n",
        "ax.scatter(amass, Temp)\n",
        "x = np.array([2,3,4,5,6])\n",
        "\n",
        "func = interpolate.interp1d(amass, Temp)\n",
        "\n",
        "ax.scatter(x, func(x), c='red')\n",
        "\n",
        "func = interpolate.interp1d(amass, Temp*2)\n",
        "\n",
        "ax.scatter(x, func(x), c='red')\n",
        "\n",
        "ax.set_xlabel('Column Mass Density (g/cm^2)')\n",
        "ax.set_ylabel('Temperature (K)')\n",
        "ax.set_xlim(-2,10)\n",
        "ax.set_ylim(2000,16000)\n",
        "\n",
        "plt.show()"
      ]
    },
    {
      "cell_type": "markdown",
      "metadata": {
        "id": "2nRETEP2RK8i"
      },
      "source": [
        "## 3. Predicted Limb Darkening"
      ]
    },
    {
      "cell_type": "code",
      "execution_count": null,
      "metadata": {
        "id": "aVpDJoAJRK8i"
      },
      "outputs": [],
      "source": [
        "print('Wavelength, I_I0, tau, mu, kappa')\n",
        "mu = 0.5\n",
        "\n",
        "wavelength = 300\n",
        "I_I0 = 0.475\n",
        "tau = -np.log(I_I0)\n",
        "kappa = tau/mu\n",
        "print(wavelength, I_I0, tau, mu, kappa)\n",
        "\n",
        "wavelength = 400\n",
        "I_I0 = 0.58\n",
        "tau = -np.log(I_I0)\n",
        "kappa = tau/mu\n",
        "print(wavelength, I_I0, tau, mu, kappa)\n",
        "\n",
        "wavelength = 500\n",
        "I_I0 = 0.68\n",
        "tau = -np.log(I_I0)\n",
        "kappa = tau/mu\n",
        "print(wavelength, I_I0, tau, mu, kappa)"
      ]
    },
    {
      "cell_type": "code",
      "execution_count": null,
      "metadata": {
        "collapsed": true,
        "id": "2fmDfmz0RK8j"
      },
      "outputs": [],
      "source": []
    }
  ],
  "metadata": {
    "anaconda-cloud": {},
    "kernelspec": {
      "display_name": "Python [conda env:anaconda]",
      "language": "python",
      "name": "conda-env-anaconda-py"
    },
    "language_info": {
      "codemirror_mode": {
        "name": "ipython",
        "version": 3
      },
      "file_extension": ".py",
      "mimetype": "text/x-python",
      "name": "python",
      "nbconvert_exporter": "python",
      "pygments_lexer": "ipython3",
      "version": "3.5.2"
    },
    "colab": {
      "provenance": []
    }
  },
  "nbformat": 4,
  "nbformat_minor": 0
}