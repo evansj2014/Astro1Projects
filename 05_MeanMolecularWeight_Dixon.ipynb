{
  "cells": [
    {
      "cell_type": "markdown",
      "metadata": {
        "id": "view-in-github",
        "colab_type": "text"
      },
      "source": [
        "<a href=\"https://colab.research.google.com/github/evansj2014/Astro1Projects/blob/main/05_MeanMolecularWeight_Dixon.ipynb\" target=\"_parent\"><img src=\"https://colab.research.google.com/assets/colab-badge.svg\" alt=\"Open In Colab\"/></a>"
      ]
    },
    {
      "cell_type": "markdown",
      "metadata": {
        "id": "lfvgGBkwXawK"
      },
      "source": [
        "# <font color='purple'>05-MeanMolecularWeight</font> (template)"
      ]
    },
    {
      "cell_type": "markdown",
      "metadata": {
        "id": "1GU67JivXawP"
      },
      "source": [
        "We start by importing the modules\n",
        "* Numpy -- operations on arrays and matrixes (and pi)\n",
        "* Matplotlib pyplot -- plotting library\n",
        "* Astropy units -- defined quantities with units. We also import the CDS conversions"
      ]
    },
    {
      "cell_type": "code",
      "execution_count": 5,
      "metadata": {
        "colab": {
          "base_uri": "https://localhost:8080/"
        },
        "id": "QjGDDnKaXawQ",
        "outputId": "b7406d2e-9e60-4958-85b5-5513f95567eb"
      },
      "outputs": [
        {
          "output_type": "execute_result",
          "data": {
            "text/plain": [
              "<astropy.units.core._UnitContext at 0x7f060b1f2fd0>"
            ]
          },
          "metadata": {},
          "execution_count": 5
        }
      ],
      "source": [
        "import numpy as np\n",
        "import matplotlib.pyplot as plt\n",
        "%matplotlib inline \n",
        "from astropy import constants as const\n",
        "import astropy.units as u\n",
        "from astropy.units import cds\n",
        "cds.enable() "
      ]
    },
    {
      "cell_type": "markdown",
      "metadata": {
        "id": "lH_cpVIzXawT"
      },
      "source": [
        "## 1. In class: Solar abundances\n",
        "\n",
        "In the 05-Grevesse.txt file, you will find a tabulation of the solar abundances for the first 30 elements that looks like this:\n",
        "\n",
        "<div style=\"width:600px;height:200px;padding:2px;border:1px dotted black;\">\n",
        "<PRE> \n",
        "# Abundance from Grevesse\t\t\t\t\t\n",
        "Z   A       Element   NumberFraction    logAbund    X\n",
        "1   1.0079  H         1.00E+00          1.20E+01    7.04E-01\n",
        "2   4.0026  He        1.00E-01          1.10E+01    2.80E-01\n",
        "3   6.941   Li        1.26E-11          1.10E+00    6.10E-11\n",
        "4   9.0122  Be        2.51E-11          1.40E+00    1.58E-10\n",
        "....\n",
        "</PRE>\n",
        "</div>"
      ]
    },
    {
      "cell_type": "markdown",
      "metadata": {
        "id": "9Dyv_TpBZ9fa"
      },
      "source": [
        "### a. We will first learn how to read in a data file, using a Numpy function"
      ]
    },
    {
      "cell_type": "code",
      "execution_count": 6,
      "metadata": {
        "id": "19QdZVKKXawT",
        "outputId": "cbeb8fa7-128b-41bf-fa22-9e35fc6a680c",
        "colab": {
          "base_uri": "https://localhost:8080/"
        }
      },
      "outputs": [
        {
          "output_type": "stream",
          "name": "stdout",
          "text": [
            "[('Z', '<i8'), ('A', '<f8'), ('Element', '<U8'), ('NumberFraction', '<f8'), ('logAbund', '<f8'), ('X', '<f8')]\n",
            "['H' 'He' 'Li' 'Be' 'B' 'C' 'N' 'O' 'F' 'Ne' 'Na' 'Mg' 'Al' 'Si' 'P' 'S'\n",
            " 'Cl' 'Ar' 'K' 'Ca' 'Sc' 'Ti' 'V' 'Cr' 'Mn' 'Fe' 'Co' 'Ni' 'Cu' 'Zn']\n",
            "H\n"
          ]
        }
      ],
      "source": [
        "# If using \"S8\" for the element string, \n",
        "# numpy will use bytestring, which need to be decoded\n",
        "# before using in mathplotlib -- using U8 here instead\n",
        "url = 'https://raw.githubusercontent.com/veropetit/PHYS633-S2022/main/L05-MeanMolecularWeight/05-Grevesse.txt'\n",
        "#---------------------------------------\n",
        "#---------------------------------------\n",
        "cols = np.array([1,2,3,4,5,6])-1\n",
        "dtype=\"i8,f8,|U8,f8,f8,f8\"\n",
        "\n",
        "AbundSol = np.genfromtxt(url, skip_header=1, names=True, usecols=cols, dtype=dtype)\n",
        "\n",
        "print (AbundSol.dtype)\n",
        "print (AbundSol['Element'])\n",
        "print (AbundSol['Element'][0])\n",
        "\n"
      ]
    },
    {
      "cell_type": "markdown",
      "metadata": {
        "id": "dV9Vq0lTXawU"
      },
      "source": [
        "### b. Now let's see what the abundance pattern looks like"
      ]
    },
    {
      "cell_type": "code",
      "execution_count": 7,
      "metadata": {
        "colab": {
          "base_uri": "https://localhost:8080/",
          "height": 274
        },
        "id": "3qfm7wFIXawW",
        "outputId": "6dcf6ec9-0e6a-4a6b-d4c1-e6b7f68f9d53"
      },
      "outputs": [
        {
          "output_type": "display_data",
          "data": {
            "text/plain": [
              "<Figure size 720x288 with 1 Axes>"
            ],
            "image/png": "[encoded data removed]"
          },
          "metadata": {
            "needs_background": "light"
          }
        }
      ],
      "source": [
        "fig, ax = plt.subplots(1,1, figsize=(10,4))\n",
        "ax.set_ylim(0,0.01)\n",
        "\n",
        "#---------------------------------------\n",
        "#---------------------------------------\n",
        "ax.scatter(AbundSol['Z'], AbundSol['X'])\n",
        "ax.plot(AbundSol['Z'], AbundSol['X'])\n",
        "\n",
        "t = ax.set_xticks(AbundSol['Z'])\n",
        "l = ax.set_xticklabels(AbundSol['Element'], rotation = 90)\n",
        "\n"
      ]
    },
    {
      "cell_type": "markdown",
      "metadata": {
        "id": "E8hlhfdoXawY"
      },
      "source": [
        "## 2. In class: what is the mean molecular weight for solar abundance?\n",
        "\n",
        "Let's calculate the value for the mean molecular weight using the $X_i$ in our abundance table. \n",
        "\n",
        "We found that:\n",
        "\n",
        "$$ \\frac{1}{\\mu} = \\frac{1}{\\mu_\\mathrm{ion}} + \\frac{1}{\\mu_\\mathrm{e}},$$\n",
        "with\n",
        "\n",
        "$$ \\frac{1}{\\mu_\\mathrm{ion}} = \\sum_i \\frac{X_i}{A_i}$$\n",
        "\n",
        "and\n",
        "\n",
        "$$ \\frac{1}{\\mu_\\mathrm{e}} = \\sum_i \\frac{Z_i X_i}{A_i} y_i $$\n",
        "\n",
        "Let's consider two cases:\n"
      ]
    },
    {
      "cell_type": "code",
      "execution_count": 8,
      "metadata": {
        "id": "V2AgrHt4XawZ",
        "outputId": "4f8ad8ee-9c9c-40f4-912a-54401a4eb753",
        "colab": {
          "base_uri": "https://localhost:8080/"
        }
      },
      "outputs": [
        {
          "output_type": "stream",
          "name": "stdout",
          "text": [
            "For neutral Solar abundances, mu = 1.3005465793861997\n",
            "The electron mu, mu = 1.1867069514286983\n",
            "The ionized mu = 0.6205107952580795\n",
            "Using X and Y, for neutral Solar abundances, mu = 1.2919896640826873\n",
            "Using X and Y, the electron mu, mu = 1.1737089201877935\n",
            "Using X and Y, the ionized mu = 0.6150061500615006\n"
          ]
        }
      ],
      "source": [
        "#---------------------------------------\n",
        "#---------------------------------------\n",
        "# Neutral Particles\n",
        "\n",
        "mu_ion = 1.0/np.sum(AbundSol['X']/AbundSol['A'])\n",
        "print ('For neutral Solar abundances, mu =', mu_ion)\n",
        "\n",
        "mu_e = 1.0/np.sum(AbundSol['X']*AbundSol['Z']/AbundSol['A'])\n",
        "print ('The electron mu, mu =', mu_e)\n",
        "\n",
        "mu_total = 1.0/(1.0/mu_ion+1.0/mu_e)\n",
        "print ('The ionized mu =', mu_total)\n",
        "\n",
        "#Using X and Y\n",
        "X = AbundSol['X'][0]\n",
        "Y = AbundSol['X'][1]\n",
        "\n",
        "mu_ion_2 = 1.0/(X+0.25*Y)\n",
        "print ('Using X and Y, for neutral Solar abundances, mu =', mu_ion_2)\n",
        "\n",
        "mu_e_2 = 2.0/(X+1.0)\n",
        "print ('Using X and Y, the electron mu, mu =', mu_e_2)\n",
        "\n",
        "mu_total_2 = 1.0/(1.0/mu_ion_2+1.0/mu_e_2)\n",
        "print ('Using X and Y, the ionized mu =', mu_total_2)\n",
        "\n"
      ]
    },
    {
      "cell_type": "markdown",
      "metadata": {
        "id": "iLj6xR4tXawb"
      },
      "source": [
        "## 3. At home: What will $\\mu$ be at the center of the Sun once all the H is converted into He?\n",
        "\n",
        "> **TODO**: Make a calulation of the mean molecular weight in the core of the Sun, once all of the hydrogen has been converted into helium (remember, at the surface of the Sun where there is no nuclear reactions: $X$=70%, $Y$=28%, and $Z$=2%)\n",
        ">\n",
        "> You can use the approximations I gave in the last slide of the PDF class notes\n",
        ">\n",
        "> You can use the code cell below as a calculator, or you can do the calculation by hand.\n",
        "\n",
        "\n",
        "At the center of the Sun, let's assume that everything is ionized. \n",
        "\n",
        "I will also assume that the total mass of the hydrogen was converted into the new total mass of helium (which is not exactly true, as a small fraction of that mass get converted into energy!)\n",
        "\n",
        "Therefore Y will become X, and X will become zero."
      ]
    },
    {
      "cell_type": "code",
      "execution_count": 9,
      "metadata": {
        "id": "2FUflwUqXawb",
        "outputId": "5835201b-b5bf-47e1-e18b-8a7fe797381e",
        "colab": {
          "base_uri": "https://localhost:8080/"
        }
      },
      "outputs": [
        {
          "output_type": "stream",
          "name": "stdout",
          "text": [
            "Using X and Y, for neutral Solar abundances, mu = 4.0\n",
            "Using X and Y, the electron mu, mu = 2.0\n",
            "Using X and Y, the ionized mu = 1.3333333333333333\n"
          ]
        }
      ],
      "source": [
        "#---------------------------------------\n",
        "#---------------------------------------\n",
        "X = 0\n",
        "Y = 1\n",
        "\n",
        "mu_ion = 1.0/(X+0.25*Y)\n",
        "print ('Using X and Y, for neutral Solar abundances, mu =', mu_ion)\n",
        "\n",
        "mu_e = 2.0/(X+1.0)\n",
        "print ('Using X and Y, the electron mu, mu =', mu_e)\n",
        "\n",
        "mu_total = 1.0/(1.0/mu_ion+1.0/mu_e)\n",
        "print ('Using X and Y, the ionized mu =', mu_total)\n"
      ]
    },
    {
      "cell_type": "markdown",
      "metadata": {
        "id": "qF8MyPgUXawc"
      },
      "source": [
        "## 4. At home: Finally, let's check what the mean molecular weight looks like inside of the sun\n",
        "\n",
        "### a. Let's use the MESA model to look at $\\mu$ as a function of radius inside of the Sun.\n",
        "\n",
        "> **TODO**: Based on the MESA model for the Sun, I provide an array `mu` that contains the mean molecular weigth. Create a plot of the mean molecular weight as a function of $r/R_\\star$. The corresponding array for the $r/R_\\star$ is called `r_rs`\n",
        "\n",
        "### b. In the interpretation, explain the shape of the curve\n",
        "\n",
        "You might find it interesting to look at the variation of the temperature `data['logT']` to help you with your interpretation -- you might find it enlightening!\n"
      ]
    },
    {
      "cell_type": "code",
      "execution_count": 10,
      "metadata": {
        "id": "sCboulEAXawc",
        "outputId": "5bcc4340-71b5-4e95-d364-9bb89aeb86ef",
        "colab": {
          "base_uri": "https://localhost:8080/",
          "height": 514
        }
      },
      "outputs": [
        {
          "output_type": "execute_result",
          "data": {
            "text/plain": [
              "[<matplotlib.lines.Line2D at 0x7f0605bbedd0>]"
            ]
          },
          "metadata": {},
          "execution_count": 10
        },
        {
          "output_type": "display_data",
          "data": {
            "text/plain": [
              "<Figure size 864x576 with 3 Axes>"
            ],
            "image/png": "[encoded data removed]"
          },
          "metadata": {
            "needs_background": "light"
          }
        }
      ],
      "source": [
        "def read_model(file):\n",
        "    # Here's a function that reads it the MESA model.\n",
        "    cols = np.array([1,2,3,4,5,9,29,66])-1\n",
        "    return np.genfromtxt(file, skip_header=5, names=True, usecols = cols)\n",
        "# Reading the model\n",
        "data = read_model('https://raw.githubusercontent.com/veropetit/PHYS633-S2022/main/L05-MeanMolecularWeight/05-MESAdatafile.txt')\n",
        "\n",
        "# Calculating mu using the density (in cgs), the temperature (in K) and the gas pressure \n",
        "mu = 10**data['logRho'] * u.g / u.cm**3 * const.k_B * 10**data['logT'] * u.K / (10**data['logPgas']*u.Ba) / const.u\n",
        "mu = mu.decompose() # Should be unitless.\n",
        "\n",
        "r_rs = 10**(data['logR']-data['logR'][0])\n",
        "\n",
        "#---------------------------------------\n",
        "#---------------------------------------\n",
        "fig, ax = plt.subplots(1, 3, figsize=(12,8))\n",
        "\n",
        "ax[0].set_xlabel('logRho (g/cm3)')\n",
        "ax[0].set_ylabel('mu')\n",
        "ax[0].plot(data['logRho'],mu)\n",
        "ax[1].set_xlabel('logT (K)')\n",
        "ax[1].set_ylabel('mu')\n",
        "ax[1].plot(data['logT'],mu)\n",
        "ax[2].set_xlabel('logR (Rsun)')\n",
        "ax[2].set_ylabel('mu')\n",
        "ax[2].plot(data['logR'],mu)\n",
        "\n",
        "\n",
        "\n"
      ]
    }
  ],
  "metadata": {
    "anaconda-cloud": {},
    "colab": {
      "collapsed_sections": [
        "E8hlhfdoXawY",
        "iLj6xR4tXawb"
      ],
      "name": "05-MeanMolecularWeigth.ipynb",
      "provenance": [],
      "include_colab_link": true
    },
    "kernelspec": {
      "display_name": "Python 3 (ipykernel)",
      "language": "python",
      "name": "python3"
    },
    "language_info": {
      "codemirror_mode": {
        "name": "ipython",
        "version": 3
      },
      "file_extension": ".py",
      "mimetype": "text/x-python",
      "name": "python",
      "nbconvert_exporter": "python",
      "pygments_lexer": "ipython3",
      "version": "3.9.12"
    }
  },
  "nbformat": 4,
  "nbformat_minor": 0
}