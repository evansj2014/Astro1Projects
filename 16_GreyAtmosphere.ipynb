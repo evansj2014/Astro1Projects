{
  "nbformat": 4,
  "nbformat_minor": 0,
  "metadata": {
    "colab": {
      "provenance": [],
      "collapsed_sections": []
    },
    "kernelspec": {
      "name": "python3",
      "display_name": "Python 3"
    },
    "language_info": {
      "name": "python"
    }
  },
  "cells": [
    {
      "cell_type": "code",
      "execution_count": 1,
      "metadata": {
        "id": "DOCohrf-Yc2G"
      },
      "outputs": [],
      "source": [
        "import numpy as np, copy\n",
        "import matplotlib.pyplot as plt\n",
        "from astropy import constants as const\n",
        "import astropy.units as u\n",
        "from astropy.units import cds\n",
        "cds.enable()\n",
        "\n",
        "from scipy.special import expn\n",
        "\n",
        "from astropy.convolution import convolve, Box1DKernel"
      ]
    },
    {
      "cell_type": "markdown",
      "source": [
        "#1. Temperature structure of the Sun"
      ],
      "metadata": {
        "id": "u1ZbAv0nqcVx"
      }
    },
    {
      "cell_type": "code",
      "source": [
        "data = np.genfromtxt('https://raw.githubusercontent.com/veropetit/PHYS633-S2022/main/L16-GreyAtmospheres/16-sun_model.txt', skip_header=24, skip_footer=229, usecols=(1,2,4), names=True)\n",
        "\n",
        "fig, ax = plt.subplots(1,1, figsize=(6,5))\n",
        "ax.set_xlim(0,2)\n",
        "ax.set_ylim(4500,7000)\n",
        "\n",
        "ax.plot(10**data['lgTauR'], data['T'], label='Sun', lw=5, c=\"0.75\")\n",
        "\n",
        "Teff = 5777.0\n",
        "tau = np.linspace(0, 10, 100)\n",
        "\n",
        "q = 2.0/3.0\n",
        "T = (0.75*Teff**4*(tau+q))**0.25\n",
        "ax.plot(tau, T, label='q = 2/3')\n",
        "\n",
        "q = 0.7104 - 0.133*np.exp(-3.4488*tau)\n",
        "T = (0.75*Teff**4*(tau+q))*0.25\n",
        "ax.plot(tau, T, label='numerical q')\n",
        "ax.legend(loc=0)"
      ],
      "metadata": {
        "colab": {
          "base_uri": "https://localhost:8080/",
          "height": 341
        },
        "id": "9Qr80w-PZED2",
        "outputId": "31b54c9c-1e74-4dac-9cd6-ab19536183d0"
      },
      "execution_count": 2,
      "outputs": [
        {
          "output_type": "execute_result",
          "data": {
            "text/plain": [
              "<matplotlib.legend.Legend at 0x7fad50146f10>"
            ]
          },
          "metadata": {},
          "execution_count": 2
        },
        {
          "output_type": "display_data",
          "data": {
            "text/plain": [
              "<Figure size 432x360 with 1 Axes>"
            ],
            "image/png": "[encoded data removed]"
          },
          "metadata": {
            "needs_background": "light"
          }
        }
      ]
    },
    {
      "cell_type": "markdown",
      "source": [
        "#2. Illustration of the integreal in the $C(\\alpha, \\tau)$ function"
      ],
      "metadata": {
        "id": "m025XQG5qj1o"
      }
    },
    {
      "cell_type": "markdown",
      "source": [
        "#3. Demo of the numpy mesh grid"
      ],
      "metadata": {
        "id": "FrkmgC2CrEG-"
      }
    },
    {
      "cell_type": "code",
      "source": [
        "x = np.array([1,2,3,4])\n",
        "y = np.array([10,20])\n",
        "\n",
        "x_grid, y_grid = np.meshgrid(x, y)\n",
        "\n",
        "print(\"The matrices have a shape {}, so [ny, nx]\".format(x_grid.shape))\n",
        "\n",
        "print(\"Each column of the x matrix has the same value of x:\", x_grid)\n",
        "print(\"Each row of the y matrix has the same value of y:\", y_grid)\n",
        "\n",
        "print(\"We can flatten these matrices to forma one-deimensional array:\")\n",
        "x_flat = x_grid.flatten()\n",
        "y_flat = y_grid.flatten()\n",
        "print(\"x: {}\".format(x_flat))\n",
        "print(\"y: {}\".format(y_flat))\n",
        "\n",
        "print(\"We cann loop over these new flatten arrays to perform complicated calculations\")\n",
        "\n",
        "Result = np.zeros(x_flat.size)\n",
        "for i in range(0,Result.size):\n",
        "  if (x_flat[i] % 2) == 0:\n",
        "    Result[i] = x_flat[i] + y_flat[i]\n",
        "  else:\n",
        "    Result[i] = x_flat[i] - y_flat[i]\n",
        "\n",
        "print(Result)\n",
        "\n",
        "print(\"And then we can reshape our array into a matrix:\", Result.reshape(x_grid.shape))"
      ],
      "metadata": {
        "id": "7GeF6Kqsa6yC",
        "outputId": "6c0edb1c-0536-4c3d-8931-ed9235922eb6",
        "colab": {
          "base_uri": "https://localhost:8080/"
        }
      },
      "execution_count": 3,
      "outputs": [
        {
          "output_type": "stream",
          "name": "stdout",
          "text": [
            "The matrices have a shape (2, 4), so [ny, nx]\n",
            "Each column of the x matrix has the same value of x: [[1 2 3 4]\n",
            " [1 2 3 4]]\n",
            "Each row of the y matrix has the same value of y: [[10 10 10 10]\n",
            " [20 20 20 20]]\n",
            "We can flatten these matrices to forma one-deimensional array:\n",
            "x: [1 2 3 4 1 2 3 4]\n",
            "y: [10 10 10 10 20 20 20 20]\n",
            "We cann loop over these new flatten arrays to perform complicated calculations\n",
            "[ -9.  12.  -7.  14. -19.  22. -17.  24.]\n",
            "And then we can reshape our array into a matrix: [[ -9.  12.  -7.  14.]\n",
            " [-19.  22. -17.  24.]]\n"
          ]
        }
      ]
    },
    {
      "cell_type": "markdown",
      "source": [
        "#4. Calculation of the $C(\\alpha, \\tau)$ function"
      ],
      "metadata": {
        "id": "DuYkLil0rKxB"
      }
    },
    {
      "cell_type": "code",
      "source": [
        "n_alpha = 50\n",
        "n_tau = 5\n",
        "\n",
        "alpha = np.linspace(0.1, 12, n_alpha)\n",
        "tau = np.linspace(0, 2, n_tau)\n",
        "\n",
        "alpha_grid, tau_grid = np.meshgrid(alpha, tau)\n",
        "\n",
        "alpha_flat = alpha_grid.flatten()\n",
        "tau_flat = tau_grid.flatten()\n",
        "\n",
        "C = np.zeros(alpha_flat.size)\n",
        "\n",
        "def p(tau):\n",
        "  return 1.0 / (0.75*(tau+2.0/3.0))**0.75\n",
        "\n",
        "for i in range(0, C.size - 1):\n",
        "  tt_small = np.linspace(0, tau_flat[i], 1000)\n",
        "  tt_high = np.linspace(tau_flat[i], 20.0, 1000)\n",
        "\n",
        "  y = expn(2, tau_flat[i] - tt_small) / (np.exp(p(tt_small)*alpha_flat[i]) - 1) #rest of line cut off think it should be -1\n",
        "  int_small = np.trapz(y, tt_small)\n",
        "\n",
        "  y = expn(2, tt_high - tau_flat[i]) / (np.exp(p(tt_high)*alpha_flat[i]) - 1) # rest of line cut off think it should be -1\n",
        "  int_high = np.trapz(y, tt_high)\n",
        "\n",
        "  C[i] = int_high - int_small\n",
        "\n",
        "C = C.reshape(alpha_grid.shape)\n",
        "\n",
        "print(C)"
      ],
      "metadata": {
        "id": "EYLvpDuBdYt6",
        "outputId": "7dafe108-b011-48ac-d1f9-fd376e77843f",
        "colab": {
          "base_uri": "https://localhost:8080/"
        }
      },
      "execution_count": 4,
      "outputs": [
        {
          "output_type": "stream",
          "name": "stdout",
          "text": [
            "[[4.64272935e+00 1.19188360e+00 6.12125313e-01 3.78641220e-01\n",
            "  2.55703694e-01 1.81769641e-01 1.33662476e-01 1.00701719e-01\n",
            "  7.72843501e-02 6.01939297e-02 4.74587640e-02 3.78090150e-02\n",
            "  3.03951482e-02 2.46315464e-02 2.01047035e-02 1.65168398e-02\n",
            "  1.36499601e-02 1.13422256e-02 9.47201930e-03 7.94696359e-03\n",
            "  6.69621369e-03 5.66496320e-03 4.81047383e-03 4.09917187e-03\n",
            "  3.50450194e-03 3.00532543e-03 2.58471456e-03 2.22903722e-03\n",
            "  1.92725704e-03 1.67039444e-03 1.45110879e-03 1.26337241e-03\n",
            "  1.10221485e-03 9.63521025e-04 8.43871083e-04 7.40412695e-04\n",
            "  6.50758747e-04 5.72904958e-04 5.05163280e-04 4.46107815e-04\n",
            "  3.94530715e-04 3.49406101e-04 3.09860416e-04 2.75147990e-04\n",
            "  2.44630824e-04 2.17761823e-04 1.94070832e-04 1.73152984e-04\n",
            "  1.54658941e-04 1.38286705e-04]\n",
            " [3.98855723e+00 1.08642176e+00 5.92043794e-01 3.88328154e-01\n",
            "  2.77699832e-01 2.08627322e-01 1.61729185e-01 1.28080438e-01\n",
            "  1.02993544e-01 8.37649997e-02 6.87214482e-02 5.67680921e-02\n",
            "  4.71559849e-02 3.93538032e-02 3.29732096e-02 2.77233539e-02\n",
            "  2.33820031e-02 1.97765615e-02 1.67711921e-02 1.42578257e-02\n",
            "  1.21497223e-02 1.03767552e-02 8.88188851e-03 7.61850038e-03\n",
            "  6.54831939e-03 5.63981370e-03 4.86692081e-03 4.20803719e-03\n",
            "  3.64520882e-03 3.16347880e-03 2.75035898e-03 2.39540016e-03\n",
            "  2.08984115e-03 1.82632148e-03 1.59864540e-03 1.40158758e-03\n",
            "  1.23073284e-03 1.08234363e-03 9.53250162e-04 8.40759291e-04\n",
            "  7.42578714e-04 6.56753820e-04 5.81614992e-04 5.15733566e-04\n",
            "  4.57884933e-04 4.07017610e-04 3.62227237e-04 3.22734705e-04\n",
            "  2.87867705e-04 2.57045161e-04]\n",
            " [3.65013854e+00 1.02405795e+00 5.74700024e-01 3.88130831e-01\n",
            "  2.85743315e-01 2.20960920e-01 1.76273016e-01 1.43622571e-01\n",
            "  1.18783359e-01 9.93222120e-02 8.37361175e-02 7.10435395e-02\n",
            "  6.05737471e-02 5.18507479e-02 4.45258075e-02 3.83364227e-02\n",
            "  3.30804097e-02 2.85989873e-02 2.47653998e-02 2.14770583e-02\n",
            "  1.86499772e-02 1.62147437e-02 1.41135374e-02 1.22978805e-02\n",
            "  1.07269114e-02 9.36603637e-03 8.18586151e-03 7.16133639e-03\n",
            "  6.27105869e-03 5.49670464e-03 4.82255836e-03 4.23512023e-03\n",
            "  3.72277905e-03 3.27553624e-03 2.88477295e-03 2.54305256e-03\n",
            "  2.24395287e-03 1.98192313e-03 1.75216192e-03 1.55051284e-03\n",
            "  1.37337509e-03 1.21762690e-03 1.08055972e-03 9.59821839e-04\n",
            "  8.53369767e-04 7.59426524e-04 6.76445675e-04 6.03080377e-04\n",
            "  5.38156691e-04 4.80650563e-04]\n",
            " [3.41057538e+00 9.72228702e-01 5.54449369e-01 3.80591214e-01\n",
            "  2.84854583e-01 2.24001117e-01 1.81775392e-01 1.50699413e-01\n",
            "  1.26852966e-01 1.07981713e-01 9.26958094e-02 8.00901408e-02\n",
            "  6.95483872e-02 6.06349539e-02 5.30320637e-02 4.65014716e-02\n",
            "  4.08602734e-02 3.59651211e-02 3.17016290e-02 2.79770848e-02\n",
            "  2.47153201e-02 2.18530252e-02 1.93370505e-02 1.71223954e-02\n",
            "  1.51706829e-02 1.34489855e-02 1.19289058e-02 1.05858490e-02\n",
            "  9.39843726e-03 8.34803352e-03 7.41835021e-03 6.59512383e-03\n",
            "  5.86584228e-03 5.21951441e-03 4.64647387e-03 4.13821122e-03\n",
            "  3.68722943e-03 3.28691889e-03 2.93144907e-03 2.61567414e-03\n",
            "  2.33505060e-03 2.08556526e-03 1.86367218e-03 1.66623723e-03\n",
            "  1.49048950e-03 1.33397848e-03 1.19453647e-03 1.07024537e-03\n",
            "  9.59407526e-04 8.60519953e-04]\n",
            " [3.22651672e+00 9.28042030e-01 5.34175224e-01 3.70215281e-01\n",
            "  2.79871155e-01 2.22381214e-01 1.82419737e-01 1.52936154e-01\n",
            "  1.30234862e-01 1.12191748e-01 9.74986119e-02 8.53049816e-02\n",
            "  7.50332093e-02 6.62763998e-02 5.87389286e-02 5.22001956e-02\n",
            "  4.64916920e-02 4.14820181e-02 3.70668210e-02 3.31618701e-02\n",
            "  2.96981883e-02 2.66185623e-02 2.38749953e-02 2.14268197e-02\n",
            "  1.92392752e-02 1.72824237e-02 1.55303097e-02 1.39603013e-02\n",
            "  1.25525683e-02 1.12896621e-02 1.01561753e-02 9.13846180e-03\n",
            "  8.22440454e-03 7.40322151e-03 6.66530145e-03 6.00206408e-03\n",
            "  5.40584014e-03 4.86976773e-03 4.38770229e-03 3.95413786e-03\n",
            "  3.56413806e-03 3.21327520e-03 2.89757647e-03 2.61347620e-03\n",
            "  2.35777343e-03 2.12759408e-03 1.92035725e-03 1.73374499e-03\n",
            "  1.56567541e-03 0.00000000e+00]]\n"
          ]
        }
      ]
    },
    {
      "cell_type": "markdown",
      "source": [
        "#5. Let's compare the grey flux with the real Solar flux"
      ],
      "metadata": {
        "id": "242IFb3urUfS"
      }
    },
    {
      "cell_type": "code",
      "source": [
        "fig, ax = plt.subplots(1, 1, figsize=(10,5))\n",
        "ax.set_xlim(0, 12)\n",
        "ax.set_ylim(0, 0.30)\n",
        "\n",
        "Te = 5777*u.K\n",
        "wave = np.genfromtxt('https://raw.githubusercontent.com/veropetit/PHYS633-S2022/main/L16-GreyAtmospheres/16-sun_wave.txt')\n",
        "flux = np.genfromtxt('https://raw.githubusercontent.com/veropetit/PHYS633-S2022/main/L16-GreyAtmospheres/16-sun_flux.txt')\n",
        "\n",
        "wave = wave/10*u.nm\n",
        "alp = (const.h*const.c/wave/const.k_B/Te).decompose()\n",
        "\n",
        "flux = (flux*10 * u.erg/u.s/u.cm**2/u.nm * const.h * const.c / alp**2 / const.k_B / Te) #rest of line cut off\n",
        "flux = (flux / const.sigma_sb / (Te**4)).decompose()\n",
        "\n",
        "ax.plot(alp, convolve(flux, Box1DKernel(31)), c = \"0.75\", label = \"Solar model\") #rest of line cut off\n",
        "\n",
        "ax.legend()"
      ],
      "metadata": {
        "id": "IaVaZwYTfjjh",
        "outputId": "ae28e9ba-cdcd-4f0d-e089-b835f0cbcd04",
        "colab": {
          "base_uri": "https://localhost:8080/",
          "height": 341
        }
      },
      "execution_count": 6,
      "outputs": [
        {
          "output_type": "execute_result",
          "data": {
            "text/plain": [
              "<matplotlib.legend.Legend at 0x7fad509f2510>"
            ]
          },
          "metadata": {},
          "execution_count": 6
        },
        {
          "output_type": "display_data",
          "data": {
            "text/plain": [
              "<Figure size 720x360 with 1 Axes>"
            ],
            "image/png": "[encoded data removed]"
          },
          "metadata": {
            "needs_background": "light"
          }
        }
      ]
    }
  ]
}